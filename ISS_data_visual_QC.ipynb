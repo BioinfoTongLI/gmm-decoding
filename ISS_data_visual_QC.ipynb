{
 "cells": [
  {
   "cell_type": "code",
   "execution_count": 38,
   "id": "introductory-photographer",
   "metadata": {},
   "outputs": [],
   "source": [
    "import napari\n",
    "import pandas as pd\n",
    "from ome_zarr.io import parse_url\n",
    "from ome_zarr.reader import Node, Reader"
   ]
  },
  {
   "cell_type": "code",
   "execution_count": 2,
   "id": "cross-portrait",
   "metadata": {},
   "outputs": [],
   "source": [
    "# Use the novnc Desktop in the other window\n",
    "import os\n",
    "os.environ['DISPLAY'] = ':1.0'\n",
    "# instantiate Qt GUI\n",
    "%gui qt5"
   ]
  },
  {
   "cell_type": "code",
   "execution_count": 50,
   "id": "0e2bdb47",
   "metadata": {},
   "outputs": [],
   "source": [
    "root = \"/nfs/team283_imaging/JSP_HSS/playground_Tong/20210701_gmm_decoding_human_brain_158_DAPI_optflow_registered\"\n",
    "decoded_peaks_path = root + \"/decoded/out_opt_flow_registered_decoded_df.tsv\"\n",
    "raw_path = root + \"/anchor_spots/out_opt_flow_registered_spot_enhanced/0\""
   ]
  },
  {
   "cell_type": "code",
   "execution_count": 10,
   "id": "e7ffe3ed",
   "metadata": {},
   "outputs": [],
   "source": [
    "decoded_peaks = pd.read_csv(decoded_peaks_path, sep=\"\\t\")"
   ]
  },
  {
   "cell_type": "code",
   "execution_count": 13,
   "id": "d7897888",
   "metadata": {},
   "outputs": [],
   "source": [
    "decoded_group = decoded_peaks.groupby(\"Name\")"
   ]
  },
  {
   "cell_type": "code",
   "execution_count": 63,
   "id": "79f2dbfb",
   "metadata": {},
   "outputs": [],
   "source": [
    "viewer = napari.Viewer()"
   ]
  },
  {
   "cell_type": "code",
   "execution_count": 24,
   "id": "0bffc190",
   "metadata": {},
   "outputs": [
    {
     "name": "stderr",
     "output_type": "stream",
     "text": [
      "/opt/conda/lib/python3.8/site-packages/napari/_vispy/vispy_camera.py:109: RuntimeWarning: divide by zero encountered in true_divide\n",
      "  zoom = np.min(canvas_size / scale)\n"
     ]
    }
   ],
   "source": [
    "for n, grp in decoded_group:\n",
    "#     print(n, grp)\n",
    "    viewer.add_points(grp[[\"y_int\", \"x_int\"]].values, name=n, visible=False, size=15, edge_color=\"red\")"
   ]
  },
  {
   "cell_type": "code",
   "execution_count": 51,
   "id": "e5976d8f",
   "metadata": {},
   "outputs": [],
   "source": [
    "reader = Reader(parse_url(raw_path))"
   ]
  },
  {
   "cell_type": "code",
   "execution_count": 64,
   "id": "e1d3ac0d",
   "metadata": {},
   "outputs": [
    {
     "name": "stdout",
     "output_type": "stream",
     "text": [
      "2021-07-28 20:35:11,150 [INFO] root_attr: multiscales\n",
      "2021-07-28 20:35:11,151 [INFO] datasets ['0', '1', '2', '3', '4']\n",
      "2021-07-28 20:35:11,159 [INFO] resolution: 0\n",
      "2021-07-28 20:35:11,160 [INFO]  - shape (t, c, z, y, x) = (1, 1, 7, 36372, 32286)\n",
      "2021-07-28 20:35:11,160 [INFO]  - chunks =  ['1', '1', '7', '1024 (+ 532)', '1024 (+ 542)']\n",
      "2021-07-28 20:35:11,161 [INFO]  - dtype = uint16\n",
      "2021-07-28 20:35:11,167 [INFO] resolution: 1\n",
      "2021-07-28 20:35:11,167 [INFO]  - shape (t, c, z, y, x) = (1, 1, 7, 16143, 18186)\n",
      "2021-07-28 20:35:11,168 [INFO]  - chunks =  ['1', '1', '7', '1024 (+ 783)', '1024 (+ 778)']\n",
      "2021-07-28 20:35:11,168 [INFO]  - dtype = uint16\n",
      "2021-07-28 20:35:11,174 [INFO] resolution: 2\n",
      "2021-07-28 20:35:11,175 [INFO]  - shape (t, c, z, y, x) = (1, 1, 7, 9093, 8071)\n",
      "2021-07-28 20:35:11,175 [INFO]  - chunks =  ['1', '1', '7', '1024 (+ 901)', '1024 (+ 903)']\n",
      "2021-07-28 20:35:11,176 [INFO]  - dtype = uint16\n",
      "2021-07-28 20:35:11,182 [INFO] resolution: 3\n",
      "2021-07-28 20:35:11,182 [INFO]  - shape (t, c, z, y, x) = (1, 1, 7, 4035, 4546)\n",
      "2021-07-28 20:35:11,183 [INFO]  - chunks =  ['1', '1', '7', '1024 (+ 963)', '1024 (+ 450)']\n",
      "2021-07-28 20:35:11,184 [INFO]  - dtype = uint16\n",
      "2021-07-28 20:35:11,189 [INFO] resolution: 4\n",
      "2021-07-28 20:35:11,189 [INFO]  - shape (t, c, z, y, x) = (1, 1, 7, 2273, 2017)\n",
      "2021-07-28 20:35:11,190 [INFO]  - chunks =  ['1', '1', '7', '1024 (+ 225)', '1024 (+ 993)']\n",
      "2021-07-28 20:35:11,191 [INFO]  - dtype = uint16\n"
     ]
    },
    {
     "name": "stderr",
     "output_type": "stream",
     "text": [
      "/opt/conda/lib/python3.8/site-packages/napari/_vispy/vispy_camera.py:109: RuntimeWarning: divide by zero encountered in true_divide\n",
      "  zoom = np.min(canvas_size / scale)\n"
     ]
    },
    {
     "data": {
      "text/plain": [
       "<Image layer 'Image' at 0x7f29fee1d0a0>"
      ]
     },
     "execution_count": 64,
     "metadata": {},
     "output_type": "execute_result"
    }
   ],
   "source": [
    "viewer.add_image(list(reader())[0].data)"
   ]
  },
  {
   "cell_type": "code",
   "execution_count": 32,
   "id": "treated-median",
   "metadata": {},
   "outputs": [],
   "source": [
    "def generate_pyramid(original_img):\n",
    "    pyramid = []\n",
    "    pyramid.append(original_img)\n",
    "    for i in range(2, 10, 2):\n",
    "        pyramid.append(original_img[::i**2, ::i**2])\n",
    "    return pyramid"
   ]
  }
 ],
 "metadata": {
  "kernelspec": {
   "display_name": "Python 3 (ipykernel)",
   "language": "python",
   "name": "python3"
  },
  "language_info": {
   "codemirror_mode": {
    "name": "ipython",
    "version": 3
   },
   "file_extension": ".py",
   "mimetype": "text/x-python",
   "name": "python",
   "nbconvert_exporter": "python",
   "pygments_lexer": "ipython3",
   "version": "3.8.5"
  }
 },
 "nbformat": 4,
 "nbformat_minor": 5
}
