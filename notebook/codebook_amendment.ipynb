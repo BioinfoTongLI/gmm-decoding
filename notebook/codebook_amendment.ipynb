{
 "cells": [
  {
   "cell_type": "code",
   "execution_count": 7,
   "metadata": {},
   "outputs": [],
   "source": [
    "import numpy as np\n",
    "import pickle"
   ]
  },
  {
   "cell_type": "code",
   "execution_count": 11,
   "metadata": {},
   "outputs": [
    {
     "data": {
      "text/plain": [
       "{'barcodes_AGCT': array(['GGAGTA', 'CGTACT', 'ATTAGA', 'TAGCGT', 'TGCAAA', 'CGATCT',\n",
       "        'GAGGCG', 'CTTTGT', 'AACCAG', 'TACGGT', 'TCCTAA', 'TTTCGC',\n",
       "        'TACCTC', 'GACTTA', 'ATCGTG', 'TGACCT', 'AATTGT', 'TCAGCC',\n",
       "        'TTCTAT', 'CGCGTG', 'CCCTCA', 'ATATTC', 'TAATTC', 'TCCCTA',\n",
       "        'TGGTCA', 'ACCAGA', 'GCCGCT', 'TTGGTA', 'TCTTCA', 'AAAGCT',\n",
       "        'GTCACT', 'GCATTC', 'AGCTCG', 'GCGCAA', 'CTCCAT', 'GCTAAG',\n",
       "        'CATGGT', 'TCGACC', 'ACACGA', 'TATATC', 'GGCCGT', 'AGTCGT',\n",
       "        'GTACTG', 'ACGTTG', 'CCTCAG', 'CAACCT', 'GGGATA', 'AGGGTA',\n",
       "        'ACTGGT', 'GAAATA', 'TTAAGC', 'CGGCGA', 'AGAACT', 'CACACT',\n",
       "        'TGTGAC', 'CCAAGT', 'CAGTGT', 'GTGTCA', 'AAGACT', 'GCAGGT',\n",
       "        'ATCCCT', 'TCACAC', 'ACTAAC', 'GATACG', 'AGTGGA', 'CCGTAC',\n",
       "        'TAGGAG', 'CATTCT', 'ATTCTT', 'CTATAT', 'GACTCC', 'CTCACA',\n",
       "        'TCAGAA', 'TCTATA', 'CTTTAG', 'CGGGTT', 'CGACTA', 'TGTCCC',\n",
       "        'CCCGTA', 'TTATTG', 'CTTCAA', 'ATGTTA', 'GAATGC', 'ATGCAA',\n",
       "        'GATCCC', 'CTGACC', 'CTAGCC', 'GTTGCA', 'TCAAGA', 'GATTTC'],\n",
       "       dtype=object),\n",
       " 'coding_chs': [False, True, True, True],\n",
       " 'channel_base': ['nuclei', 'A', 'G', 'C'],\n",
       " 'channel_names': ['DAPI', 'Cy5', 'AF488', 'Cy3'],\n",
       " 'K': 90,\n",
       " 'R': 6,\n",
       " 'C': 3}"
      ]
     },
     "execution_count": 11,
     "metadata": {},
     "output_type": "execute_result"
    }
   ],
   "source": [
    "r = \"/nfs/t233_imaging/NT_FAK/playground_Tong/COLF/\"\n",
    "# r = \"/nfs/t233_imaging/NT_FAK/playground_Tong/Hipsci/\"\n",
    "# r = \"/nfs/t233_imaging/NT_FAK/playground_Tong/3xHpSci/\"\n",
    "\n",
    "with open(f\"{r}/decoding/codebook_metadata/channel_info.pickle\", 'rb') as f:\n",
    "    data = pickle.load(f)\n",
    "data"
   ]
  },
  {
   "cell_type": "code",
   "execution_count": 9,
   "metadata": {},
   "outputs": [
    {
     "data": {
      "text/plain": [
       "{'barcodes_AGCT': array(['GGAGTA', 'CGTACT', 'ATTAGA', 'TAGCGT', 'TGCAAA', 'CGATCT',\n",
       "        'GAGGCG', 'CTTTGT', 'AACCAG', 'TACGGT', 'TCCTAA', 'TTTCGC',\n",
       "        'TACCTC', 'GACTTA', 'ATCGTG', 'TGACCT', 'AATTGT', 'TCAGCC',\n",
       "        'TTCTAT', 'CGCGTG', 'CCCTCA', 'ATATTC', 'TAATTC', 'TCCCTA',\n",
       "        'TGGTCA', 'ACCAGA', 'GCCGCT', 'TTGGTA', 'TCTTCA', 'AAAGCT',\n",
       "        'GTCACT', 'GCATTC', 'AGCTCG', 'GCGCAA', 'CTCCAT', 'GCTAAG',\n",
       "        'CATGGT', 'TCGACC', 'ACACGA', 'TATATC', 'GGCCGT', 'AGTCGT',\n",
       "        'GTACTG', 'ACGTTG', 'CCTCAG', 'CAACCT', 'GGGATA', 'AGGGTA',\n",
       "        'ACTGGT', 'GAAATA', 'TTAAGC', 'CGGCGA', 'AGAACT', 'CACACT',\n",
       "        'TGTGAC', 'CCAAGT', 'CAGTGT', 'GTGTCA', 'AAGACT', 'GCAGGT',\n",
       "        'ATCCCT', 'TCACAC', 'ACTAAC', 'GATACG', 'AGTGGA', 'CCGTAC',\n",
       "        'TAGGAG', 'CATTCT', 'ATTCTT', 'CTATAT', 'GACTCC', 'CTCACA',\n",
       "        'TCAGAA', 'TCTATA', 'CTTTAG', 'CGGGTT', 'CGACTA', 'TGTCCC',\n",
       "        'CCCGTA', 'TTATTG', 'CTTCAA', 'ATGTTA', 'GAATGC', 'ATGCAA',\n",
       "        'GATCCC', 'CTGACC', 'CTAGCC', 'GTTGCA', 'TCAAGA', 'GATTTC'],\n",
       "       dtype=object),\n",
       " 'coding_chs': [False, True, True, True],\n",
       " 'channel_base': ['nuclei', 'A', 'G', 'C'],\n",
       " 'channel_names': ['DAPI', 'Cy5', 'AF488', 'Cy3'],\n",
       " 'K': 90,\n",
       " 'R': 6,\n",
       " 'C': 3}"
      ]
     },
     "execution_count": 9,
     "metadata": {},
     "output_type": "execute_result"
    }
   ],
   "source": [
    "data[\"C\"] = 3\n",
    "data[\"R\"] = 6\n",
    "data"
   ]
  },
  {
   "cell_type": "code",
   "execution_count": 10,
   "metadata": {},
   "outputs": [],
   "source": [
    "with open(f\"{r}/decoding/codebook_metadata/channel_info.pickle\", 'wb') as f:\n",
    "    pickle.dump(data, f)"
   ]
  }
 ],
 "metadata": {
  "kernelspec": {
   "display_name": "base",
   "language": "python",
   "name": "python3"
  },
  "language_info": {
   "codemirror_mode": {
    "name": "ipython",
    "version": 3
   },
   "file_extension": ".py",
   "mimetype": "text/x-python",
   "name": "python",
   "nbconvert_exporter": "python",
   "pygments_lexer": "ipython3",
   "version": "3.10.12"
  }
 },
 "nbformat": 4,
 "nbformat_minor": 2
}
