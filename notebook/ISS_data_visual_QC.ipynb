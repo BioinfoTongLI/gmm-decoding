{
 "cells": [
  {
   "cell_type": "code",
   "execution_count": 1,
   "id": "introductory-photographer",
   "metadata": {},
   "outputs": [],
   "source": [
    "import napari\n",
    "import pandas as pd\n",
    "from ome_zarr.io import parse_url\n",
    "from ome_zarr.reader import Node, Reader"
   ]
  },
  {
   "cell_type": "code",
   "execution_count": 11,
   "id": "0e2bdb47",
   "metadata": {},
   "outputs": [
    {
     "name": "stdout",
     "output_type": "stream",
     "text": [
      "2021-12-23 13:57:04,318 [WARNING] version mismatch: detected:FormatV02, requested:FormatV03\n"
     ]
    }
   ],
   "source": [
    "root = \"/home/jovyan/local_data/peak_calling_only_test/\"\n",
    "detected_peaks_path = root + \"/anchor_spots/out_opt_flow_registered_detected_peaks.tsv\"\n",
    "raw_path = root + \"/raws/out_opt_flow_registered/0\"\n",
    "reader = Reader(parse_url(raw_path))"
   ]
  },
  {
   "cell_type": "code",
   "execution_count": 19,
   "id": "ebac2d51",
   "metadata": {},
   "outputs": [],
   "source": [
    "decoded_peaks_path = root + \"/decoded/out_opt_flow_registered_decoded_df.tsv\""
   ]
  },
  {
   "cell_type": "markdown",
   "id": "057624ac",
   "metadata": {},
   "source": [
    "# Display peak locations"
   ]
  },
  {
   "cell_type": "code",
   "execution_count": 12,
   "id": "e7ffe3ed",
   "metadata": {},
   "outputs": [],
   "source": [
    "detected_peaks = pd.read_csv(detected_peaks_path, sep=\"\\t\")"
   ]
  },
  {
   "cell_type": "code",
   "execution_count": 13,
   "id": "10528101",
   "metadata": {},
   "outputs": [
    {
     "data": {
      "text/html": [
       "<div>\n",
       "<style scoped>\n",
       "    .dataframe tbody tr th:only-of-type {\n",
       "        vertical-align: middle;\n",
       "    }\n",
       "\n",
       "    .dataframe tbody tr th {\n",
       "        vertical-align: top;\n",
       "    }\n",
       "\n",
       "    .dataframe thead th {\n",
       "        text-align: right;\n",
       "    }\n",
       "</style>\n",
       "<table border=\"1\" class=\"dataframe\">\n",
       "  <thead>\n",
       "    <tr style=\"text-align: right;\">\n",
       "      <th></th>\n",
       "      <th>Unnamed: 0</th>\n",
       "      <th>y</th>\n",
       "      <th>x</th>\n",
       "      <th>mass</th>\n",
       "      <th>size</th>\n",
       "      <th>ecc</th>\n",
       "      <th>signal</th>\n",
       "      <th>raw_mass</th>\n",
       "      <th>ep</th>\n",
       "      <th>frame</th>\n",
       "    </tr>\n",
       "  </thead>\n",
       "  <tbody>\n",
       "    <tr>\n",
       "      <th>0</th>\n",
       "      <td>0</td>\n",
       "      <td>1045.340535</td>\n",
       "      <td>26870.002875</td>\n",
       "      <td>3069.035537</td>\n",
       "      <td>1.360482</td>\n",
       "      <td>0.631848</td>\n",
       "      <td>418.542444</td>\n",
       "      <td>15864.0</td>\n",
       "      <td>0.025765</td>\n",
       "      <td>0</td>\n",
       "    </tr>\n",
       "    <tr>\n",
       "      <th>1</th>\n",
       "      <td>1</td>\n",
       "      <td>1045.958544</td>\n",
       "      <td>5168.997287</td>\n",
       "      <td>3455.180920</td>\n",
       "      <td>1.369421</td>\n",
       "      <td>0.458708</td>\n",
       "      <td>437.704960</td>\n",
       "      <td>25929.0</td>\n",
       "      <td>0.015687</td>\n",
       "      <td>0</td>\n",
       "    </tr>\n",
       "    <tr>\n",
       "      <th>2</th>\n",
       "      <td>2</td>\n",
       "      <td>1045.615375</td>\n",
       "      <td>31572.922408</td>\n",
       "      <td>3469.931922</td>\n",
       "      <td>1.298543</td>\n",
       "      <td>0.526646</td>\n",
       "      <td>502.499081</td>\n",
       "      <td>19725.0</td>\n",
       "      <td>0.020671</td>\n",
       "      <td>0</td>\n",
       "    </tr>\n",
       "    <tr>\n",
       "      <th>3</th>\n",
       "      <td>3</td>\n",
       "      <td>1050.203373</td>\n",
       "      <td>29286.065175</td>\n",
       "      <td>2476.927566</td>\n",
       "      <td>1.359984</td>\n",
       "      <td>0.155589</td>\n",
       "      <td>276.271099</td>\n",
       "      <td>31087.0</td>\n",
       "      <td>0.013068</td>\n",
       "      <td>0</td>\n",
       "    </tr>\n",
       "    <tr>\n",
       "      <th>4</th>\n",
       "      <td>4</td>\n",
       "      <td>1056.149963</td>\n",
       "      <td>28322.060627</td>\n",
       "      <td>2405.791894</td>\n",
       "      <td>1.339743</td>\n",
       "      <td>0.175376</td>\n",
       "      <td>287.437746</td>\n",
       "      <td>21525.0</td>\n",
       "      <td>0.018926</td>\n",
       "      <td>0</td>\n",
       "    </tr>\n",
       "    <tr>\n",
       "      <th>...</th>\n",
       "      <td>...</td>\n",
       "      <td>...</td>\n",
       "      <td>...</td>\n",
       "      <td>...</td>\n",
       "      <td>...</td>\n",
       "      <td>...</td>\n",
       "      <td>...</td>\n",
       "      <td>...</td>\n",
       "      <td>...</td>\n",
       "      <td>...</td>\n",
       "    </tr>\n",
       "    <tr>\n",
       "      <th>1337712</th>\n",
       "      <td>1337712</td>\n",
       "      <td>25445.938796</td>\n",
       "      <td>11109.986399</td>\n",
       "      <td>4439.637967</td>\n",
       "      <td>1.380964</td>\n",
       "      <td>0.147798</td>\n",
       "      <td>446.390130</td>\n",
       "      <td>41788.0</td>\n",
       "      <td>0.009706</td>\n",
       "      <td>0</td>\n",
       "    </tr>\n",
       "    <tr>\n",
       "      <th>1337713</th>\n",
       "      <td>1337713</td>\n",
       "      <td>25471.000090</td>\n",
       "      <td>11513.017562</td>\n",
       "      <td>3053.595236</td>\n",
       "      <td>1.398274</td>\n",
       "      <td>0.143137</td>\n",
       "      <td>292.538559</td>\n",
       "      <td>29480.0</td>\n",
       "      <td>0.013785</td>\n",
       "      <td>0</td>\n",
       "    </tr>\n",
       "    <tr>\n",
       "      <th>1337714</th>\n",
       "      <td>1337714</td>\n",
       "      <td>25477.061271</td>\n",
       "      <td>10160.062602</td>\n",
       "      <td>4142.274313</td>\n",
       "      <td>1.452548</td>\n",
       "      <td>0.012834</td>\n",
       "      <td>540.272674</td>\n",
       "      <td>51212.0</td>\n",
       "      <td>0.007913</td>\n",
       "      <td>0</td>\n",
       "    </tr>\n",
       "    <tr>\n",
       "      <th>1337715</th>\n",
       "      <td>1337715</td>\n",
       "      <td>25478.879110</td>\n",
       "      <td>10160.960117</td>\n",
       "      <td>4448.598856</td>\n",
       "      <td>1.390213</td>\n",
       "      <td>0.395902</td>\n",
       "      <td>555.299395</td>\n",
       "      <td>42486.0</td>\n",
       "      <td>0.009546</td>\n",
       "      <td>0</td>\n",
       "    </tr>\n",
       "    <tr>\n",
       "      <th>1337716</th>\n",
       "      <td>1337716</td>\n",
       "      <td>25479.041150</td>\n",
       "      <td>13226.016338</td>\n",
       "      <td>2489.197091</td>\n",
       "      <td>1.343646</td>\n",
       "      <td>0.457785</td>\n",
       "      <td>334.447948</td>\n",
       "      <td>18145.0</td>\n",
       "      <td>0.022490</td>\n",
       "      <td>0</td>\n",
       "    </tr>\n",
       "  </tbody>\n",
       "</table>\n",
       "<p>1337717 rows × 10 columns</p>\n",
       "</div>"
      ],
      "text/plain": [
       "         Unnamed: 0             y             x         mass      size  \\\n",
       "0                 0   1045.340535  26870.002875  3069.035537  1.360482   \n",
       "1                 1   1045.958544   5168.997287  3455.180920  1.369421   \n",
       "2                 2   1045.615375  31572.922408  3469.931922  1.298543   \n",
       "3                 3   1050.203373  29286.065175  2476.927566  1.359984   \n",
       "4                 4   1056.149963  28322.060627  2405.791894  1.339743   \n",
       "...             ...           ...           ...          ...       ...   \n",
       "1337712     1337712  25445.938796  11109.986399  4439.637967  1.380964   \n",
       "1337713     1337713  25471.000090  11513.017562  3053.595236  1.398274   \n",
       "1337714     1337714  25477.061271  10160.062602  4142.274313  1.452548   \n",
       "1337715     1337715  25478.879110  10160.960117  4448.598856  1.390213   \n",
       "1337716     1337716  25479.041150  13226.016338  2489.197091  1.343646   \n",
       "\n",
       "              ecc      signal  raw_mass        ep  frame  \n",
       "0        0.631848  418.542444   15864.0  0.025765      0  \n",
       "1        0.458708  437.704960   25929.0  0.015687      0  \n",
       "2        0.526646  502.499081   19725.0  0.020671      0  \n",
       "3        0.155589  276.271099   31087.0  0.013068      0  \n",
       "4        0.175376  287.437746   21525.0  0.018926      0  \n",
       "...           ...         ...       ...       ...    ...  \n",
       "1337712  0.147798  446.390130   41788.0  0.009706      0  \n",
       "1337713  0.143137  292.538559   29480.0  0.013785      0  \n",
       "1337714  0.012834  540.272674   51212.0  0.007913      0  \n",
       "1337715  0.395902  555.299395   42486.0  0.009546      0  \n",
       "1337716  0.457785  334.447948   18145.0  0.022490      0  \n",
       "\n",
       "[1337717 rows x 10 columns]"
      ]
     },
     "execution_count": 13,
     "metadata": {},
     "output_type": "execute_result"
    }
   ],
   "source": [
    "detected_peaks"
   ]
  },
  {
   "cell_type": "code",
   "execution_count": 23,
   "id": "79f2dbfb",
   "metadata": {},
   "outputs": [],
   "source": [
    "viewer = napari.Viewer()"
   ]
  },
  {
   "cell_type": "code",
   "execution_count": 24,
   "id": "2a8cb6ac",
   "metadata": {},
   "outputs": [
    {
     "name": "stdout",
     "output_type": "stream",
     "text": [
      "2021-12-23 19:58:43,035 [INFO] root_attr: multiscales\n",
      "2021-12-23 19:58:43,036 [INFO] datasets ['0', '1', '2', '3', '4', '5', '6']\n",
      "2021-12-23 19:58:43,080 [INFO] resolution: 0\n",
      "2021-12-23 19:58:43,081 [INFO]  - shape ('t', 'c', 'z', 'y', 'x') = (1, 35, 1, 26526, 46871)\n",
      "2021-12-23 19:58:43,082 [INFO]  - chunks =  ['1', '1', '1', '1024 (+ 926)', '1024 (+ 791)']\n",
      "2021-12-23 19:58:43,082 [INFO]  - dtype = >u2\n",
      "2021-12-23 19:58:43,091 [INFO] resolution: 1\n",
      "2021-12-23 19:58:43,092 [INFO]  - shape ('t', 'c', 'z', 'y', 'x') = (1, 35, 1, 13263, 23435)\n",
      "2021-12-23 19:58:43,092 [INFO]  - chunks =  ['1', '1', '1', '1024 (+ 975)', '1024 (+ 907)']\n",
      "2021-12-23 19:58:43,093 [INFO]  - dtype = >u2\n",
      "2021-12-23 19:58:43,097 [INFO] resolution: 2\n",
      "2021-12-23 19:58:43,098 [INFO]  - shape ('t', 'c', 'z', 'y', 'x') = (1, 35, 1, 6631, 11717)\n",
      "2021-12-23 19:58:43,098 [INFO]  - chunks =  ['1', '1', '1', '1024 (+ 487)', '1024 (+ 453)']\n",
      "2021-12-23 19:58:43,098 [INFO]  - dtype = >u2\n",
      "2021-12-23 19:58:43,101 [INFO] resolution: 3\n",
      "2021-12-23 19:58:43,101 [INFO]  - shape ('t', 'c', 'z', 'y', 'x') = (1, 35, 1, 3315, 5858)\n",
      "2021-12-23 19:58:43,102 [INFO]  - chunks =  ['1', '1', '1', '1024 (+ 243)', '1024 (+ 738)']\n",
      "2021-12-23 19:58:43,102 [INFO]  - dtype = >u2\n",
      "2021-12-23 19:58:43,104 [INFO] resolution: 4\n",
      "2021-12-23 19:58:43,104 [INFO]  - shape ('t', 'c', 'z', 'y', 'x') = (1, 35, 1, 1657, 2929)\n",
      "2021-12-23 19:58:43,105 [INFO]  - chunks =  ['1', '1', '1', '1024 (+ 633)', '1024 (+ 881)']\n",
      "2021-12-23 19:58:43,105 [INFO]  - dtype = >u2\n",
      "2021-12-23 19:58:43,107 [INFO] resolution: 5\n",
      "2021-12-23 19:58:43,107 [INFO]  - shape ('t', 'c', 'z', 'y', 'x') = (1, 35, 1, 828, 1464)\n",
      "2021-12-23 19:58:43,108 [INFO]  - chunks =  ['1', '1', '1', '828', '1024 (+ 440)']\n",
      "2021-12-23 19:58:43,108 [INFO]  - dtype = >u2\n",
      "2021-12-23 19:58:43,111 [INFO] resolution: 6\n",
      "2021-12-23 19:58:43,112 [INFO]  - shape ('t', 'c', 'z', 'y', 'x') = (1, 35, 1, 414, 732)\n",
      "2021-12-23 19:58:43,112 [INFO]  - chunks =  ['1', '1', '1', '414', '732']\n",
      "2021-12-23 19:58:43,113 [INFO]  - dtype = >u2\n",
      "2021-12-23 19:58:43,114 [WARNING] version mismatch: detected:FormatV03, requested:FormatV02\n"
     ]
    },
    {
     "name": "stderr",
     "output_type": "stream",
     "text": [
      "/opt/conda/lib/python3.8/site-packages/dask/array/core.py:221: RuntimeWarning: coroutine 'get_msg' was never awaited\n",
      "  return list(product(*slices))\n",
      "RuntimeWarning: Enable tracemalloc to get the object allocation traceback\n"
     ]
    }
   ],
   "source": [
    "img_layer = viewer.add_image(list(reader())[0].data)"
   ]
  },
  {
   "cell_type": "code",
   "execution_count": 16,
   "id": "6527f335",
   "metadata": {},
   "outputs": [
    {
     "name": "stdout",
     "output_type": "stream",
     "text": [
      "2021-12-23 13:57:11,562 [ERROR] Exception in callback BaseAsyncIOLoop._handle_events(142, 1)\n",
      "handle: <Handle BaseAsyncIOLoop._handle_events(142, 1)>\n",
      "Traceback (most recent call last):\n",
      "  File \"/opt/conda/lib/python3.8/asyncio/events.py\", line 81, in _run\n",
      "    self._context.run(self._callback, *self._args)\n",
      "  File \"/opt/conda/lib/python3.8/site-packages/tornado/platform/asyncio.py\", line 189, in _handle_events\n",
      "    handler_func(fileobj, events)\n",
      "  File \"/opt/conda/lib/python3.8/site-packages/zmq/eventloop/zmqstream.py\", line 452, in _handle_events\n",
      "    self._handle_recv()\n",
      "  File \"/opt/conda/lib/python3.8/site-packages/zmq/eventloop/zmqstream.py\", line 481, in _handle_recv\n",
      "    self._run_callback(callback, msg)\n",
      "  File \"/opt/conda/lib/python3.8/site-packages/zmq/eventloop/zmqstream.py\", line 431, in _run_callback\n",
      "    callback(*args, **kwargs)\n",
      "  File \"/opt/conda/lib/python3.8/site-packages/jupyter_client/threaded.py\", line 121, in _handle_recv\n",
      "    msg_list = self.ioloop._asyncio_event_loop.run_until_complete(get_msg(future_msg))\n",
      "  File \"/opt/conda/lib/python3.8/asyncio/base_events.py\", line 592, in run_until_complete\n",
      "    self._check_running()\n",
      "  File \"/opt/conda/lib/python3.8/asyncio/base_events.py\", line 554, in _check_running\n",
      "    raise RuntimeError(\n",
      "RuntimeError: Cannot run the event loop while another loop is running\n"
     ]
    },
    {
     "name": "stderr",
     "output_type": "stream",
     "text": [
      "/opt/conda/lib/python3.8/site-packages/napari/utils/events/event.py:444: RuntimeWarning: coroutine 'get_msg' was never awaited\n",
      "  for ri, criteria in enumerate((before, after)):\n",
      "RuntimeWarning: Enable tracemalloc to get the object allocation traceback\n",
      "/opt/conda/lib/python3.8/site-packages/vispy/visuals/transforms/transform_system.py:145: RuntimeWarning: coroutine 'get_msg' was never awaited\n",
      "  self._mappings = {'ct0': None, 'ct1': None, 'ft0': None}\n",
      "RuntimeWarning: Enable tracemalloc to get the object allocation traceback\n"
     ]
    }
   ],
   "source": [
    "spots_layer = viewer.add_points(detected_peaks[[\"y\", \"x\"]].to_numpy(), face_color=\"red\", size=3)"
   ]
  },
  {
   "cell_type": "markdown",
   "id": "90dfd1d3",
   "metadata": {},
   "source": [
    "# Display decoded peaks"
   ]
  },
  {
   "cell_type": "code",
   "execution_count": 25,
   "id": "06bcdae6",
   "metadata": {},
   "outputs": [],
   "source": [
    "decoded_peaks = pd.read_csv(decoded_peaks_path, sep=\"\\t\")"
   ]
  },
  {
   "cell_type": "code",
   "execution_count": 26,
   "id": "d46abe98",
   "metadata": {},
   "outputs": [],
   "source": [
    "decoded_group = decoded_peaks.groupby(\"Name\")"
   ]
  },
  {
   "cell_type": "code",
   "execution_count": 27,
   "id": "0bffc190",
   "metadata": {},
   "outputs": [],
   "source": [
    "for n, grp in decoded_group:\n",
    "#     print(n, grp)\n",
    "    viewer.add_points(grp[[\"y_int\", \"x_int\"]].values, name=n, visible=False, size=15, edge_color=\"red\")"
   ]
  },
  {
   "cell_type": "code",
   "execution_count": 32,
   "id": "treated-median",
   "metadata": {},
   "outputs": [],
   "source": [
    "def generate_pyramid(original_img):\n",
    "    pyramid = []\n",
    "    pyramid.append(original_img)\n",
    "    for i in range(2, 10, 2):\n",
    "        pyramid.append(original_img[::i**2, ::i**2])\n",
    "    return pyramid"
   ]
  }
 ],
 "metadata": {
  "kernelspec": {
   "display_name": "Python 3 (ipykernel)",
   "language": "python",
   "name": "python3"
  },
  "language_info": {
   "codemirror_mode": {
    "name": "ipython",
    "version": 3
   },
   "file_extension": ".py",
   "mimetype": "text/x-python",
   "name": "python",
   "nbconvert_exporter": "python",
   "pygments_lexer": "ipython3",
   "version": "3.8.12"
  }
 },
 "nbformat": 4,
 "nbformat_minor": 5
}
