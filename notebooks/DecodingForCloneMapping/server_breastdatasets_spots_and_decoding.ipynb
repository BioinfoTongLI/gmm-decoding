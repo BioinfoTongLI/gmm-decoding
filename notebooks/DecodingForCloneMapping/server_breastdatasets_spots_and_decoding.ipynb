{
 "cells": [
  {
   "cell_type": "code",
   "execution_count": 1,
   "metadata": {},
   "outputs": [],
   "source": [
    "import numpy as np\n",
    "import pandas as pd\n",
    "from pandas import read_csv\n",
    "import matplotlib.pyplot as plt\n",
    "import pickle\n",
    "import os"
   ]
  },
  {
   "cell_type": "code",
   "execution_count": 2,
   "metadata": {},
   "outputs": [],
   "source": [
    "from decoding_functions import *\n",
    "from reading_data_functions import *\n",
    "from spot_detection_functions import *"
   ]
  },
  {
   "cell_type": "code",
   "execution_count": 3,
   "metadata": {},
   "outputs": [],
   "source": [
    "data_path = '/nfs/research1/gerstung/mg617/ISS_data/'"
   ]
  },
  {
   "cell_type": "code",
   "execution_count": 4,
   "metadata": {},
   "outputs": [],
   "source": [
    "data_list = [\n",
    "    'Exp_PD9694d2', #problem with registration; tried 1) matlab spots: EMSY has a weird pattern due to confusion with ACTB; 2) trackpy with radius 6: PR enhanced due to confusion with KRT8\n",
    "    'Mut_PD9694d2', #problem with registration in top-right corner (wasn't able to resolve with trackpy search radius 6); carefull with the infeasible regions (barcode KCNT1mut and AP3B22mut seem overly expressed in this region for example); noise seems to high in rounds > 1 (only 17% of detected spots actually decoded when detected in matlab)\n",
    "    'Mut_PD9694d3', #problem with registration\n",
    "    'Mut_PD9694a2',\n",
    "    'Mut_PD9694c2',\n",
    "]"
   ]
  },
  {
   "cell_type": "code",
   "execution_count": null,
   "metadata": {},
   "outputs": [],
   "source": [
    "spots_params = {'trackpy_diam_detect':5, 'trackpy_search_range':6, 'spot_diam_tophat':5} # parameters for spot detection: keep trackpy_serach_range small (3) and increase onlyto try to resolve registration issues\n",
    "spots_params['trackpy_prc'] = 64 #by default this parameter is set to 64, decrease it to select more spots"
   ]
  },
  {
   "cell_type": "code",
   "execution_count": null,
   "metadata": {},
   "outputs": [
    {
     "name": "stdout",
     "output_type": "stream",
     "text": [
      "loading Exp_PD9694d2\n",
      "Extracting spots from: X3_Y0 X4_Y0 X5_Y0 X6_Y0 X9_Y0 X10_Y0 X14_Y0 X15_Y0 X2_Y1 X3_Y1 X4_Y1 X5_Y1 X6_Y1 X7_Y1 X9_Y1 X10_Y1 X11_Y1 X12_Y1 X13_Y1 X14_Y1 X15_Y1 X16_Y1 X20_Y1 X1_Y2 X2_Y2 X3_Y2 X4_Y2 X5_Y2 X6_Y2 X7_Y2 X8_Y2 X9_Y2 X10_Y2 X11_Y2 X12_Y2 X13_Y2 X14_Y2 X15_Y2 X16_Y2 X18_Y2 X19_Y2 X20_Y2 X21_Y2 X22_Y2 X23_Y2 X24_Y2 X25_Y2 X1_Y3 X2_Y3 X3_Y3 X4_Y3 X5_Y3 X6_Y3 X7_Y3 X8_Y3 X9_Y3 X10_Y3 X11_Y3 X12_Y3 X13_Y3 X14_Y3 X15_Y3 X16_Y3 X17_Y3 X18_Y3 X19_Y3 X20_Y3 X21_Y3 X22_Y3 X23_Y3 X24_Y3 X25_Y3 X0_Y4 X1_Y4 X2_Y4 X3_Y4 X4_Y4 X5_Y4 X6_Y4 X7_Y4 X8_Y4 X9_Y4 X10_Y4 X11_Y4 X12_Y4 X13_Y4 X14_Y4 X15_Y4 X16_Y4 X17_Y4 X18_Y4 X19_Y4 X20_Y4 X21_Y4 X22_Y4 X23_Y4 X24_Y4 X25_Y4 X26_Y4 X0_Y5 X1_Y5 X2_Y5 X3_Y5 X4_Y5 X5_Y5 X6_Y5 X7_Y5 X8_Y5 X9_Y5 X10_Y5 X11_Y5 X12_Y5 X13_Y5 X14_Y5 X15_Y5 X16_Y5 X17_Y5 X18_Y5 X19_Y5 X20_Y5 X21_Y5 X22_Y5 X23_Y5 X24_Y5 X25_Y5 X26_Y5 X27_Y5 X0_Y6 X1_Y6 X2_Y6 X3_Y6 X4_Y6 X5_Y6 X6_Y6 X7_Y6 X8_Y6 X9_Y6 X10_Y6 X11_Y6 X12_Y6 X13_Y6 X14_Y6 X15_Y6 X16_Y6 X17_Y6 X18_Y6 X19_Y6 X20_Y6 X21_Y6 X22_Y6 X23_Y6 X24_Y6 X25_Y6 X26_Y6 X0_Y7 X1_Y7 X2_Y7 X3_Y7 X4_Y7 X5_Y7 X6_Y7 X7_Y7 X8_Y7 X9_Y7 X10_Y7 X11_Y7 X12_Y7 X13_Y7 X14_Y7 X15_Y7 X16_Y7 X17_Y7 X18_Y7 X19_Y7 X20_Y7 X21_Y7 X22_Y7 X23_Y7 X24_Y7 X25_Y7 X26_Y7 X0_Y8 X1_Y8 X2_Y8 X3_Y8 X4_Y8 X5_Y8 X6_Y8 X7_Y8 X8_Y8 X9_Y8 X10_Y8 X11_Y8 X12_Y8 X13_Y8 X14_Y8 X15_Y8 X16_Y8 X17_Y8 X18_Y8 X19_Y8 X20_Y8 X21_Y8 X22_Y8 X23_Y8 X24_Y8 X25_Y8 X3_Y9 X4_Y9 X5_Y9 X6_Y9 X7_Y9 X8_Y9 X9_Y9 X10_Y9 X11_Y9 X12_Y9 X13_Y9 X14_Y9 X15_Y9 X16_Y9 X17_Y9 X18_Y9 X19_Y9 X20_Y9 X21_Y9 X22_Y9 X23_Y9 X24_Y9 X25_Y9 X26_Y9 X1_Y10 X2_Y10 X3_Y10 X4_Y10 X5_Y10 X6_Y10 X7_Y10 X8_Y10 X9_Y10 X10_Y10 X11_Y10 X12_Y10 X13_Y10 X14_Y10 X15_Y10 X16_Y10 X17_Y10 X18_Y10 X19_Y10 X20_Y10 X21_Y10 X22_Y10 X23_Y10 X24_Y10 X25_Y10 X26_Y10 X2_Y11 X3_Y11 X4_Y11 X5_Y11 X6_Y11 X7_Y11 X8_Y11 X9_Y11 X10_Y11 X11_Y11 X12_Y11 X13_Y11 X14_Y11 X15_Y11 X16_Y11 X17_Y11 X18_Y11 X19_Y11 X20_Y11 X21_Y11 X22_Y11 X23_Y11 X24_Y11 X25_Y11 X26_Y11 X2_Y12 X3_Y12 X4_Y12 X5_Y12 X6_Y12 X7_Y12 X8_Y12 X9_Y12 X10_Y12 X11_Y12 X12_Y12 X13_Y12 X14_Y12 X15_Y12 X16_Y12 X17_Y12 X18_Y12 X19_Y12 X20_Y12 X21_Y12 X22_Y12 X23_Y12 X24_Y12 X25_Y12 X26_Y12 X3_Y13 X4_Y13 X5_Y13 X6_Y13 X7_Y13 X8_Y13 X9_Y13 X10_Y13 X11_Y13 X12_Y13 X13_Y13 X14_Y13 X15_Y13 X16_Y13 X17_Y13 X18_Y13 X19_Y13 X20_Y13 X21_Y13 X22_Y13 X23_Y13 X24_Y13 X4_Y14 X5_Y14 X6_Y14 X7_Y14 X8_Y14 X9_Y14 X10_Y14 X11_Y14 X12_Y14 X13_Y14 X14_Y14 X15_Y14 X16_Y14 X17_Y14 X18_Y14 X19_Y14 X20_Y14 X21_Y14 X22_Y14 X23_Y14 X24_Y14 X6_Y15 X7_Y15 X8_Y15 X9_Y15 X10_Y15 X11_Y15 X12_Y15 X13_Y15 X14_Y15 X15_Y15 X16_Y15 X17_Y15 X18_Y15 X19_Y15 X20_Y15 X21_Y15 X22_Y15 X23_Y15 X24_Y15 X6_Y16 X7_Y16 X8_Y16 X9_Y16 X10_Y16 X11_Y16 X12_Y16 X13_Y16 X14_Y16 X15_Y16 X16_Y16 X17_Y16 X18_Y16 X19_Y16 X20_Y16 X21_Y16 X22_Y16 X23_Y16 X7_Y17 X8_Y17 X9_Y17 X10_Y17 X11_Y17 X12_Y17 X13_Y17 X14_Y17 X15_Y17 X16_Y17 X17_Y17 X18_Y17 X19_Y17 X20_Y17 X11_Y18 X12_Y18 X13_Y18 X14_Y18 X15_Y18 X16_Y18 X17_Y18 decoding Exp_PD9694d2\n"
     ]
    },
    {
     "name": "stderr",
     "output_type": "stream",
     "text": [
      "/homes/mg617/virtualEnvs/pytorch/lib/python3.6/site-packages/torch/cuda/__init__.py:52: UserWarning: CUDA initialization: Found no NVIDIA driver on your system. Please check that you have an NVIDIA GPU and installed a driver from http://www.nvidia.com/Download/index.aspx (Triggered internally at  /pytorch/c10/cuda/CUDAFunctions.cpp:100.)\n",
      "  return torch._C._cuda_getDeviceCount() > 0\n",
      "100%|██████████| 60/60 [01:07<00:00,  1.13s/it]\n"
     ]
    },
    {
     "name": "stdout",
     "output_type": "stream",
     "text": [
      "loading Mut_PD9694d2\n",
      "Extracting spots from: X15_Y0 X16_Y0 X5_Y1 X6_Y1 X7_Y1 X10_Y1 X11_Y1 X12_Y1 X13_Y1 X14_Y1 X15_Y1 X16_Y1 X17_Y1 X20_Y1 X21_Y1 X22_Y1 X23_Y1 X24_Y1 X26_Y1 X27_Y1 X2_Y2 X3_Y2 X4_Y2 X5_Y2 X6_Y2 X7_Y2 X8_Y2 X9_Y2 X10_Y2 X11_Y2 X12_Y2 X13_Y2 X14_Y2 X15_Y2 X16_Y2 X17_Y2 X18_Y2 X19_Y2 X20_Y2 X21_Y2 X22_Y2 X23_Y2 X24_Y2 X25_Y2 X26_Y2 X27_Y2 X28_Y2 X2_Y3 X3_Y3 X4_Y3 X5_Y3 X6_Y3 X7_Y3 X8_Y3 X9_Y3 X10_Y3 X11_Y3 X12_Y3 X13_Y3 X14_Y3 X15_Y3 X16_Y3 X17_Y3 X18_Y3 X19_Y3 X20_Y3 X21_Y3 X22_Y3 X23_Y3 X24_Y3 X25_Y3 X26_Y3 X27_Y3 X28_Y3 X1_Y4 X2_Y4 X3_Y4 X4_Y4 X5_Y4 X6_Y4 X7_Y4 X8_Y4 X9_Y4 X10_Y4 X11_Y4 X12_Y4 X13_Y4 X14_Y4 X15_Y4 X16_Y4 X17_Y4 X18_Y4 X19_Y4 X20_Y4 X21_Y4 X22_Y4 X23_Y4 X24_Y4 X25_Y4 X26_Y4 X27_Y4 X28_Y4 X0_Y5 X1_Y5 X2_Y5 X3_Y5 X4_Y5 X5_Y5 X6_Y5 X7_Y5 X8_Y5 X9_Y5 X10_Y5 X11_Y5 X12_Y5 X13_Y5 X14_Y5 X15_Y5 X16_Y5 X17_Y5 X18_Y5 X19_Y5 X20_Y5 X21_Y5 X22_Y5 X23_Y5 X24_Y5 X25_Y5 X26_Y5 X27_Y5 X28_Y5 X0_Y6 X1_Y6 X2_Y6 X3_Y6 X4_Y6 X5_Y6 X6_Y6 X7_Y6 X8_Y6 X9_Y6 X10_Y6 X11_Y6 X12_Y6 X13_Y6 X14_Y6 X15_Y6 X16_Y6 X17_Y6 X18_Y6 X19_Y6 X20_Y6 X21_Y6 X22_Y6 X23_Y6 X24_Y6 X25_Y6 X26_Y6 X27_Y6 X28_Y6 X0_Y7 X1_Y7 X2_Y7 X3_Y7 X4_Y7 X5_Y7 X6_Y7 X7_Y7 X8_Y7 X9_Y7 X10_Y7 X11_Y7 X12_Y7 X13_Y7 X14_Y7 X15_Y7 X16_Y7 X17_Y7 X18_Y7 X19_Y7 X20_Y7 X21_Y7 X22_Y7 X23_Y7 X24_Y7 X25_Y7 X26_Y7 X27_Y7 X28_Y7 X0_Y8 X1_Y8 X2_Y8 X3_Y8 X4_Y8 X5_Y8 X6_Y8 X7_Y8 X8_Y8 X9_Y8 X10_Y8 X11_Y8 X12_Y8 X13_Y8 X14_Y8 X15_Y8 X16_Y8 X17_Y8 X18_Y8 X19_Y8 X20_Y8 X21_Y8 X22_Y8 X23_Y8 X24_Y8 X25_Y8 X26_Y8 X27_Y8 X28_Y8 X0_Y9 X1_Y9 X2_Y9 X3_Y9 X4_Y9 X5_Y9 X6_Y9 X7_Y9 X8_Y9 X9_Y9 X10_Y9 X11_Y9 X12_Y9 X13_Y9 X14_Y9 X15_Y9 X16_Y9 X17_Y9 X18_Y9 X19_Y9 X20_Y9 X21_Y9 X22_Y9 X23_Y9 X24_Y9 X25_Y9 X26_Y9 X27_Y9 X28_Y9 X1_Y10 X2_Y10 X3_Y10 X4_Y10 X5_Y10 X6_Y10 X7_Y10 X8_Y10 X9_Y10 X10_Y10 X11_Y10 X12_Y10 X13_Y10 X14_Y10 X15_Y10 X16_Y10 X17_Y10 X18_Y10 X19_Y10 X20_Y10 X21_Y10 X22_Y10 X23_Y10 X24_Y10 X25_Y10 X26_Y10 X27_Y10 X28_Y10 X2_Y11 X3_Y11 X4_Y11 X5_Y11 X6_Y11 X7_Y11 X8_Y11 X9_Y11 X10_Y11 X11_Y11 X12_Y11 X13_Y11 X14_Y11 X15_Y11 X16_Y11 X17_Y11 X18_Y11 X19_Y11 X20_Y11 X21_Y11 X22_Y11 X23_Y11 X24_Y11 X25_Y11 X26_Y11 X27_Y11 X3_Y12 X4_Y12 X5_Y12 X6_Y12 X7_Y12 X8_Y12 X9_Y12 X10_Y12 X11_Y12 X12_Y12 X13_Y12 X14_Y12 X15_Y12 X16_Y12 X17_Y12 X18_Y12 X19_Y12 X20_Y12 X21_Y12 X22_Y12 X23_Y12 X24_Y12 X25_Y12 X26_Y12 X27_Y12 X4_Y13 X5_Y13 X6_Y13 X7_Y13 X8_Y13 X9_Y13 X10_Y13 X11_Y13 X12_Y13 X13_Y13 X14_Y13 X15_Y13 X16_Y13 X17_Y13 X18_Y13 X19_Y13 X20_Y13 X21_Y13 X22_Y13 X23_Y13 X24_Y13 X25_Y13 X26_Y13 X27_Y13 X5_Y14 X6_Y14 X7_Y14 X8_Y14 X9_Y14 X10_Y14 X11_Y14 X12_Y14 X13_Y14 X14_Y14 X15_Y14 X16_Y14 X17_Y14 X18_Y14 X19_Y14 X20_Y14 X21_Y14 X22_Y14 X23_Y14 X24_Y14 X25_Y14 X26_Y14 X7_Y15 X8_Y15 X9_Y15 X10_Y15 X11_Y15 X12_Y15 X13_Y15 X14_Y15 X15_Y15 X16_Y15 X17_Y15 X18_Y15 X19_Y15 X20_Y15 X21_Y15 X22_Y15 X8_Y16 X9_Y16 X10_Y16 X11_Y16 X12_Y16 X13_Y16 X14_Y16 X15_Y16 X16_Y16 X17_Y16 X18_Y16 X19_Y16 X11_Y17 X12_Y17 X13_Y17 X14_Y17 decoding Mut_PD9694d2\n"
     ]
    },
    {
     "name": "stderr",
     "output_type": "stream",
     "text": [
      "100%|██████████| 60/60 [00:47<00:00,  1.27it/s]\n"
     ]
    },
    {
     "name": "stdout",
     "output_type": "stream",
     "text": [
      "loading Mut_PD9694d3\n",
      "Extracting spots from: X2_Y0 X3_Y0 X4_Y0 X14_Y0 X15_Y0 X1_Y1 X2_Y1 X3_Y1 X4_Y1 X5_Y1 X8_Y1 X9_Y1 X10_Y1 X11_Y1 X12_Y1 X13_Y1 X14_Y1 X15_Y1 X19_Y1 X20_Y1 X21_Y1 X1_Y2 X2_Y2 X3_Y2 X4_Y2 X5_Y2 X6_Y2 X7_Y2 X8_Y2 X9_Y2 X10_Y2 X11_Y2 X12_Y2 X13_Y2 X14_Y2 X15_Y2 X16_Y2 X17_Y2 X18_Y2 X19_Y2 X20_Y2 X21_Y2 X22_Y2 X23_Y2 X24_Y2 X25_Y2 X0_Y3 X1_Y3 X2_Y3 X3_Y3 X4_Y3 X5_Y3 X6_Y3 X7_Y3 X8_Y3 X9_Y3 X10_Y3 X11_Y3 X12_Y3 X13_Y3 X14_Y3 X15_Y3 X16_Y3 X17_Y3 X18_Y3 X19_Y3 X20_Y3 X21_Y3 X22_Y3 X23_Y3 X24_Y3 X25_Y3 X0_Y4 X1_Y4 X2_Y4 X3_Y4 X4_Y4 X5_Y4 X6_Y4 X7_Y4 X8_Y4 X9_Y4 X10_Y4 X11_Y4 X12_Y4 X13_Y4 X14_Y4 X15_Y4 "
     ]
    }
   ],
   "source": [
    "# Detect spots and decode them and save the results\n",
    "for i in range(0, len(data_list)):\n",
    "\n",
    "    dataset_name = data_list[i]\n",
    "    print('loading ' + dataset_name)\n",
    "    dataset_path = data_path + dataset_name + '/'\n",
    "    tifs_path = dataset_path + 'selected_2k_tiles/'\n",
    "\n",
    "    barcodes_01, K, R, C, gene_names, channels_info = read_taglist_and_channel_info_breastdata(dataset_path)\n",
    "\n",
    "    tile_names = loadmat(dataset_path + 'decoding/tile_names.mat', squeeze_me=True)\n",
    "    tiles_info = loadmat(dataset_path + 'selected_2k_tiles_DAPI_c01/tiles_info.mat', squeeze_me=True)\n",
    "    tiles_info['filename_prefix'] = 'cycles_combined_opt_flow_registered_'\n",
    "\n",
    "    tiles_to_load={'y_start':0, 'y_end':tiles_info['y_max'], 'x_start':0, 'x_end':tiles_info['x_max']} # select which tiles to load, including indices at the end\n",
    "    \n",
    "    # Load tile by tile and extract spots in each using trackpy (by default detects spots in each cycle and links them if in given search radius; call with anchors_cy_ind_for_spot_detect=0 to detect spots using only the 1st cycle)\n",
    "    spots, spots_loc, _ = load_tiles_to_extract_spots(tifs_path, channels_info, C, R, tile_names, tiles_info, tiles_to_load, spots_params)\n",
    "    # Save extracted spots\n",
    "    extracted_spots_path = dataset_path + 'decoding/extracted-spots/'\n",
    "    np.save(extracted_spots_path + dataset_name + '_spots_trackpy6.npy', spots)\n",
    "    spots_loc.to_csv(extracted_spots_path + dataset_name + '_spots_trackpy6_locations.csv', index=False)\n",
    "\n",
    "    print('decoding ' + dataset_name)\n",
    "    # Estimate GMM parameters and compute the class probabilities \n",
    "    out = decoding_function(spots, barcodes_01)\n",
    "    # Save decoding output\n",
    "    with open(dataset_path + 'decoding/' + dataset_name + '_out.pickle', 'wb') as fp:\n",
    "        pickle.dump(out, fp)"
   ]
  }
 ],
 "metadata": {
  "kernelspec": {
   "display_name": "Python 3",
   "language": "python",
   "name": "python3"
  },
  "language_info": {
   "codemirror_mode": {
    "name": "ipython",
    "version": 3
   },
   "file_extension": ".py",
   "mimetype": "text/x-python",
   "name": "python",
   "nbconvert_exporter": "python",
   "pygments_lexer": "ipython3",
   "version": "3.6.12"
  }
 },
 "nbformat": 4,
 "nbformat_minor": 4
}
